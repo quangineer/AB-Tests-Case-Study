{
 "cells": [
  {
   "cell_type": "code",
   "execution_count": 1,
   "metadata": {},
   "outputs": [
    {
     "name": "stderr",
     "output_type": "stream",
     "text": [
      "UsageError: Line magic function `%` not found.\n"
     ]
    }
   ],
   "source": [
    "import numpy as np\n",
    "import pandas as pd\n",
    "import matplotlib.pyplot as plt\n",
    "% matplotlib inline\n",
    "\n",
    "np.random.seed(42)"
   ]
  },
  {
   "cell_type": "code",
   "execution_count": 2,
   "metadata": {},
   "outputs": [],
   "source": [
    "df = pd.read_csv('course_page_actions.csv')"
   ]
  },
  {
   "cell_type": "code",
   "execution_count": 3,
   "metadata": {},
   "outputs": [
    {
     "name": "stdout",
     "output_type": "stream",
     "text": [
      "                    timestamp      id       group  action    duration\n",
      "0  2016-09-24 17:14:52.012145  261869  experiment    view  130.545004\n",
      "1  2016-09-24 18:45:09.645857  226546  experiment    view  159.862440\n",
      "2  2016-09-24 19:16:21.002533  286353  experiment    view   79.349315\n",
      "3  2016-09-24 19:43:06.927785  842279  experiment    view   55.536126\n",
      "4  2016-09-24 21:08:22.790333  781883  experiment    view  204.322437\n",
      "5  2016-09-24 17:14:52.012145  261869  experiment    view  130.545004\n",
      "6  2016-09-24 18:45:09.645857  226546  experiment    view  159.862440\n",
      "7  2016-09-24 19:16:21.002533  286353  experiment    view   79.349315\n",
      "8  2016-09-24 19:43:06.927785  842279  experiment    view   55.536126\n",
      "9  2016-09-24 21:08:22.790333  781883  experiment  enroll  204.322437\n",
      "                       timestamp      id       group  action    duration\n",
      "4064  2017-01-18 07:08:08.464201  906893  experiment    view   54.512907\n",
      "4065  2017-01-18 07:11:22.563679  845571  experiment  enroll  160.567579\n",
      "4066  2017-01-18 08:07:44.940868  282469     control    view  110.801373\n",
      "4067  2017-01-18 08:35:44.813986  313521     control    view  131.677707\n",
      "4068  2017-01-18 08:35:55.418085  790105  experiment  enroll  119.939132\n",
      "4069  2017-01-18 09:39:08.046251  931490     control    view   58.846204\n",
      "4070  2017-01-18 09:44:15.239671  410222  experiment  enroll  101.231821\n",
      "4071  2017-01-18 09:56:26.948171  364458     control    view  293.490566\n",
      "4072  2017-01-18 10:10:18.293253  443603  experiment    view  149.026959\n",
      "4073  2017-01-18 10:38:20.939958  540111  experiment    view   62.039341\n"
     ]
    }
   ],
   "source": [
    "print (df.head(10))\n",
    "print (df.tail(10))"
   ]
  },
  {
   "cell_type": "code",
   "execution_count": 4,
   "metadata": {},
   "outputs": [
    {
     "data": {
      "text/plain": [
       "0.2364438839848676"
      ]
     },
     "execution_count": 4,
     "metadata": {},
     "output_type": "execute_result"
    }
   ],
   "source": [
    "# Get dataframe of control group:\n",
    "control_df = df.query('group == \"control\"')\n",
    "\n",
    "# In control group, compute click thru rate:\n",
    "control_ctr = control_df.query('action == \"enroll\"').id.nunique()/control_df.query('action == \"view\"').id.nunique()\n",
    "\n",
    "# Display click through rate:\n",
    "control_ctr"
   ]
  },
  {
   "cell_type": "code",
   "execution_count": 5,
   "metadata": {},
   "outputs": [
    {
     "data": {
      "text/plain": [
       "0.2668693009118541"
      ]
     },
     "execution_count": 5,
     "metadata": {},
     "output_type": "execute_result"
    }
   ],
   "source": [
    " # Get dataframe of experiment group:\n",
    "experiment_df = df.query('group == \"experiment\"')\n",
    "\n",
    "# In experiment group, compute click thru rate:\n",
    "experiment_ctr = experiment_df.query('action == \"enroll\"').id.nunique()/experiment_df.query('action == \"view\"').id.nunique()\n",
    "\n",
    "# Display click through rate:\n",
    "experiment_ctr"
   ]
  },
  {
   "cell_type": "code",
   "execution_count": 6,
   "metadata": {},
   "outputs": [
    {
     "data": {
      "text/plain": [
       "0.030425416926986526"
      ]
     },
     "execution_count": 6,
     "metadata": {},
     "output_type": "execute_result"
    }
   ],
   "source": [
    "# Compute the observed difference in click thru rates:\n",
    "obs_diff = experiment_ctr - control_ctr\n",
    "\n",
    "# Display observed difference:\n",
    "obs_diff"
   ]
  },
  {
   "cell_type": "code",
   "execution_count": 9,
   "metadata": {},
   "outputs": [],
   "source": [
    "# Create a sampling distribution of the difference in proportions\n",
    "# with bootstrapping:\n",
    "diffs = []\n",
    "size = df.shape[0]\n",
    "for i in range(10000):\n",
    "    b_samp = df.sample(size, replace=True)\n",
    "    control_df = b_samp.query('group == \"control\"')\n",
    "    experiment_df = b_samp.query('group == \"experiment\"')\n",
    "    control_ctr = control_df.query('action == \"enroll\"').id.nunique()/control_df.query('action == \"view\"').id.nunique()\n",
    "    experiment_ctr = experiment_df.query('action == \"enroll\"').id.nunique()/experiment_df.query('action == \"view\"').id.nunique()\n",
    "    diffs.append(experiment_ctr - control_ctr)"
   ]
  },
  {
   "cell_type": "code",
   "execution_count": 10,
   "metadata": {},
   "outputs": [
    {
     "data": {
      "text/plain": [
       "(array([  17.,  131.,  667., 1782., 2778., 2609., 1486.,  439.,   77.,\n",
       "          14.]),\n",
       " array([-0.02457464, -0.01333697, -0.0020993 ,  0.00913838,  0.02037605,\n",
       "         0.03161372,  0.0428514 ,  0.05408907,  0.06532674,  0.07656441,\n",
       "         0.08780209]),\n",
       " <a list of 10 Patch objects>)"
      ]
     },
     "execution_count": 10,
     "metadata": {},
     "output_type": "execute_result"
    },
    {
     "data": {
      "image/png": "[encoded data removed]",
      "text/plain": [
       "<Figure size 432x288 with 1 Axes>"
      ]
     },
     "metadata": {
      "needs_background": "light"
     },
     "output_type": "display_data"
    }
   ],
   "source": [
    "# Convert to numpy array:\n",
    "diffs = np.array(diffs)\n",
    "\n",
    "# Plot sampling distribution:\n",
    "plt.hist(diffs)"
   ]
  },
  {
   "cell_type": "code",
   "execution_count": 11,
   "metadata": {},
   "outputs": [
    {
     "data": {
      "text/plain": [
       "(array([   8.,   58.,  428., 1410., 2716., 2876., 1765.,  614.,  108.,\n",
       "          17.]),\n",
       " array([-0.06038866, -0.0486169 , -0.03684515, -0.0250734 , -0.01330165,\n",
       "        -0.0015299 ,  0.01024185,  0.02201361,  0.03378536,  0.04555711,\n",
       "         0.05732886]),\n",
       " <a list of 10 Patch objects>)"
      ]
     },
     "execution_count": 11,
     "metadata": {},
     "output_type": "execute_result"
    },
    {
     "data": {
      "image/png": "[encoded data removed]",
      "text/plain": [
       "<Figure size 432x288 with 1 Axes>"
      ]
     },
     "metadata": {
      "needs_background": "light"
     },
     "output_type": "display_data"
    }
   ],
   "source": [
    "# Simulate distribution under the NULL Hypothesis:\n",
    "null_vals = np.random.normal(0, diffs.std(), diffs.size)\n",
    "# Plot the null distribution:\n",
    "plt.hist(null_vals)"
   ]
  },
  {
   "cell_type": "code",
   "execution_count": 12,
   "metadata": {},
   "outputs": [
    {
     "data": {
      "image/png": "[encoded data removed]",
      "text/plain": [
       "<Figure size 432x288 with 1 Axes>"
      ]
     },
     "metadata": {
      "needs_background": "light"
     },
     "output_type": "display_data"
    }
   ],
   "source": [
    "# Plot observed statistic with the NULL distribution:\n",
    "plt.hist(null_vals);\n",
    "plt.axvline(x=obs_diff, color = 'red');"
   ]
  },
  {
   "cell_type": "code",
   "execution_count": null,
   "metadata": {},
   "outputs": [],
   "source": []
  }
 ],
 "metadata": {
  "kernelspec": {
   "display_name": "Python 3",
   "language": "python",
   "name": "python3"
  },
  "language_info": {
   "codemirror_mode": {
    "name": "ipython",
    "version": 3
   },
   "file_extension": ".py",
   "mimetype": "text/x-python",
   "name": "python",
   "nbconvert_exporter": "python",
   "pygments_lexer": "ipython3",
   "version": "3.7.3"
  }
 },
 "nbformat": 4,
 "nbformat_minor": 2
}
