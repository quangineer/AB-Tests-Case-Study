{
 "cells": [
  {
   "cell_type": "code",
   "execution_count": 1,
   "metadata": {},
   "outputs": [
    {
     "name": "stderr",
     "output_type": "stream",
     "text": [
      "UsageError: Line magic function `%` not found.\n"
     ]
    }
   ],
   "source": [
    "import numpy as np\n",
    "import pandas as pd\n",
    "import matplotlib.pyplot as plt\n",
    "% matplotlib inline"
   ]
  },
  {
   "cell_type": "code",
   "execution_count": 2,
   "metadata": {},
   "outputs": [],
   "source": [
    "df = pd.read_csv(\"homepage_actions.csv\")"
   ]
  },
  {
   "cell_type": "code",
   "execution_count": 3,
   "metadata": {},
   "outputs": [
    {
     "name": "stdout",
     "output_type": "stream",
     "text": [
      "                    timestamp      id       group action\n",
      "0  2016-09-24 17:42:27.839496  804196  experiment   view\n",
      "1  2016-09-24 19:19:03.542569  434745  experiment   view\n",
      "2  2016-09-24 19:36:00.944135  507599  experiment   view\n",
      "3  2016-09-24 19:59:02.646620  671993     control   view\n",
      "4  2016-09-24 20:26:14.466886  536734  experiment   view\n",
      "5  2016-09-24 20:32:25.712659  681598  experiment   view\n",
      "6  2016-09-24 20:39:03.248853  522116  experiment   view\n",
      "7  2016-09-24 20:57:20.336757  349125  experiment   view\n",
      "8  2016-09-24 20:58:01.948663  349125  experiment  click\n",
      "9  2016-09-24 21:00:12.278374  560027     control   view                        timestamp      id       group action\n",
      "8178  2017-01-18 08:17:12.675797  616692     control   view\n",
      "8179  2017-01-18 08:53:50.910310  615849  experiment   view\n",
      "8180  2017-01-18 08:54:56.879682  615849  experiment  click\n",
      "8181  2017-01-18 09:07:37.661143  795585     control   view\n",
      "8182  2017-01-18 09:09:17.363917  795585     control  click\n",
      "8183  2017-01-18 09:11:41.984113  192060  experiment   view\n",
      "8184  2017-01-18 09:42:12.844575  755912  experiment   view\n",
      "8185  2017-01-18 10:01:09.026482  458115  experiment   view\n",
      "8186  2017-01-18 10:08:51.588469  505451     control   view\n",
      "8187  2017-01-18 10:24:08.629327  461199     control   view\n"
     ]
    }
   ],
   "source": [
    "print (df.head(10),df.tail(10))"
   ]
  },
  {
   "cell_type": "code",
   "execution_count": 4,
   "metadata": {},
   "outputs": [],
   "source": [
    "control_df = df.query('group == \"control\"')\n",
    "experiment_df = df.query('group == \"experiment\"')"
   ]
  },
  {
   "cell_type": "code",
   "execution_count": 5,
   "metadata": {},
   "outputs": [],
   "source": [
    "control_ctr = control_df.query('action == \"click\"').id.nunique()/control_df.query('action == \"view\"').id.nunique()"
   ]
  },
  {
   "cell_type": "code",
   "execution_count": 6,
   "metadata": {},
   "outputs": [],
   "source": [
    "experiment_ctr = experiment_df.query('action == \"click\"').id.nunique()/experiment_df.query('action == \"view\"').id.nunique()"
   ]
  },
  {
   "cell_type": "code",
   "execution_count": 7,
   "metadata": {},
   "outputs": [],
   "source": [
    "obs_diff = experiment_ctr - control_ctr"
   ]
  },
  {
   "cell_type": "code",
   "execution_count": 8,
   "metadata": {},
   "outputs": [
    {
     "name": "stdout",
     "output_type": "stream",
     "text": [
      "0.030034443684015644\n"
     ]
    }
   ],
   "source": [
    "print (obs_diff)"
   ]
  },
  {
   "cell_type": "code",
   "execution_count": 9,
   "metadata": {},
   "outputs": [],
   "source": [
    "# So, in this dataset, the experiment group has a higher click thru rate than the control group's click thru rate"
   ]
  },
  {
   "cell_type": "code",
   "execution_count": 10,
   "metadata": {},
   "outputs": [],
   "source": [
    "# The click thru rate difference between control group and experiment group is about 3%\n",
    "# We need to see if the difference is significant and not just due to chance"
   ]
  },
  {
   "cell_type": "code",
   "execution_count": 11,
   "metadata": {},
   "outputs": [],
   "source": [
    "# So we decide to bootstrap the sample to simulate the sampling distribution for the difference in proportions."
   ]
  },
  {
   "cell_type": "code",
   "execution_count": 12,
   "metadata": {},
   "outputs": [],
   "source": [
    "# We will take a sample of mix of control group and experiment group, shuffle it, make it possible to choose a unique \n",
    "# value more than one time in this sample (replace=True), and the sample will be the whole df (df.shape[0])"
   ]
  },
  {
   "cell_type": "code",
   "execution_count": 13,
   "metadata": {},
   "outputs": [],
   "source": [
    "diffs = []\n",
    "for i in range(10000):\n",
    "    b_samp = df.sample(df.shape[0], replace=True)\n",
    "    control_df = b_samp.query('group == \"control\"')\n",
    "    experiment_df = b_samp.query('group == \"experiment\"')\n",
    "    control_ctr = control_df.query('action == \"click\"').id.nunique()/control_df.query('action == \"view\"').id.nunique()\n",
    "    experiment_ctr = experiment_df.query('action == \"click\"').id.nunique()/experiment_df.query('action == \"view\"').id.nunique()\n",
    "    diffs.append(experiment_ctr - control_ctr)"
   ]
  },
  {
   "cell_type": "code",
   "execution_count": 14,
   "metadata": {},
   "outputs": [
    {
     "data": {
      "image/png": "[encoded data removed]",
      "text/plain": [
       "<Figure size 432x288 with 1 Axes>"
      ]
     },
     "metadata": {
      "needs_background": "light"
     },
     "output_type": "display_data"
    }
   ],
   "source": [
    "plt.hist(diffs);"
   ]
  },
  {
   "cell_type": "code",
   "execution_count": 15,
   "metadata": {},
   "outputs": [],
   "source": [
    "# Calculate p-value: First, we assume the null hypothesis is true, to simulate from the null, we'll create a normal \n",
    "# distribution centered at zero, with the same standard deviation as our sampling distribution we simulate here."
   ]
  },
  {
   "cell_type": "code",
   "execution_count": 16,
   "metadata": {},
   "outputs": [],
   "source": [
    "diffs = np.array(diffs) # make the obj \"diffs\" became an array in numpy\n",
    "null_vals = np.random.normal(0, diffs.std(), diffs.size)"
   ]
  },
  {
   "cell_type": "code",
   "execution_count": 17,
   "metadata": {},
   "outputs": [
    {
     "data": {
      "text/plain": [
       "(array([   9.,   53.,  427., 1418., 2579., 2807., 1902.,  653.,  137.,\n",
       "          15.]),\n",
       " array([-0.04764013, -0.03844216, -0.02924419, -0.02004622, -0.01084825,\n",
       "        -0.00165028,  0.00754769,  0.01674566,  0.02594362,  0.03514159,\n",
       "         0.04433956]),\n",
       " <a list of 10 Patch objects>)"
      ]
     },
     "execution_count": 17,
     "metadata": {},
     "output_type": "execute_result"
    },
    {
     "data": {
      "image/png": "[encoded data removed]",
      "text/plain": [
       "<Figure size 432x288 with 1 Axes>"
      ]
     },
     "metadata": {
      "needs_background": "light"
     },
     "output_type": "display_data"
    }
   ],
   "source": [
    "# The null distribution is plotted here:\n",
    "plt.hist(null_vals)"
   ]
  },
  {
   "cell_type": "code",
   "execution_count": 18,
   "metadata": {},
   "outputs": [
    {
     "data": {
      "image/png": "[encoded data removed]",
      "text/plain": [
       "<Figure size 432x288 with 1 Axes>"
      ]
     },
     "metadata": {
      "needs_background": "light"
     },
     "output_type": "display_data"
    }
   ],
   "source": [
    "plt.hist(null_vals);\n",
    "plt.axvline(x=obs_diff, color='red');"
   ]
  },
  {
   "cell_type": "code",
   "execution_count": 20,
   "metadata": {},
   "outputs": [
    {
     "name": "stdout",
     "output_type": "stream",
     "text": [
      "0.0054\n"
     ]
    }
   ],
   "source": [
    "print ((null_vals > obs_diff).mean())"
   ]
  },
  {
   "cell_type": "code",
   "execution_count": null,
   "metadata": {},
   "outputs": [],
   "source": [
    "# We cannot find the p-value like this as these are all the null values (null_vals) that are more extreme than our\n",
    "# statistic in favor of our alternative. \n",
    "# In other words, we can see that the sampling distribution of the reality is different from the sampling distribution\n",
    "# of the null hypothesis.\n",
    "# With a p-value of approzimately 0.54%, the difference is significant, we can reject the null hypothesis.\n",
    "# Remember: The null hypo is: CTR of new page <= CTR of old page; the alternative hypo is: CTR of new"
   ]
  }
 ],
 "metadata": {
  "kernelspec": {
   "display_name": "Python 3",
   "language": "python",
   "name": "python3"
  },
  "language_info": {
   "codemirror_mode": {
    "name": "ipython",
    "version": 3
   },
   "file_extension": ".py",
   "mimetype": "text/x-python",
   "name": "python",
   "nbconvert_exporter": "python",
   "pygments_lexer": "ipython3",
   "version": "3.7.3"
  }
 },
 "nbformat": 4,
 "nbformat_minor": 2
}
